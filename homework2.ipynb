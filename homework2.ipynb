{
 "cells": [
  {
   "cell_type": "markdown",
   "id": "4d10ddc0-2cc0-4f7a-93c8-5f87d8c34658",
   "metadata": {},
   "source": [
    "# Homework 2\n",
    "\n",
    "The goal of this homework is to get familiar with MLflow.\n",
    "\n",
    "## Q1. Install MLflow\n",
    "\n",
    "To get started with MLflow you'll need to install the MLflow Python package.\n",
    "\n",
    "For this we recommend creating a separate Python environment, for example, you can use [conda environments][conda-env], and then install the package there with `pip` or `conda`.\n",
    "\n",
    "Once you installed the package, run the command `mlflow --version` and check the output.\n",
    "\n",
    "What's the version that you have?\n",
    "\n",
    "[conda-env]: https://docs.conda.io/projects/conda/en/latest/user-guide/getting-started.html#managing-envs"
   ]
  },
  {
   "cell_type": "code",
   "execution_count": 1,
   "id": "c1e286e0-62e1-46dc-b261-5085eea2fe06",
   "metadata": {},
   "outputs": [
    {
     "name": "stdout",
     "output_type": "stream",
     "text": [
      "mlflow, version 1.26.1\n"
     ]
    }
   ],
   "source": [
    "!mlflow --version"
   ]
  },
  {
   "cell_type": "markdown",
   "id": "49b02803-fe2e-42f8-b69e-880189bb94be",
   "metadata": {},
   "source": [
    "## Q2. Download and preprocess the data\n",
    "\n",
    "We'll use the Green Taxi Trip Records dataset.\n",
    "\n",
    "Download the data for January, February and March 2021 in parquet format from [here][green-taxi-trip-data].\n",
    "\n",
    "Use the script `preprocess_data.py` located in the folder [homework][homework-repo] to preprocess the data.\n",
    "\n",
    "The script will\n",
    "\n",
    "* load the data from the folder `<TAXI_DATA_FOLDER>` (the folder where you have downloaded the data),\n",
    "* fit a `DictVectorizer` on the training set (January 2021 data),\n",
    "* save the preprocessed datasets and the model to disk\n",
    "\n",
    "Your task is to download the datasets and then execute this command:\n",
    "\n",
    "```\n",
    "python preprocess_data.py --raw_data_path <TAXI_DATA_FOLDER> --dest_path ./output\n",
    "```\n",
    "\n",
    "Tip: go to `02-experiment-tracking/homework/` folder before executing the command and change the value of `<TAXI_DATA_FOLDER>` to the location where you saved the data.\n",
    "\n",
    "How many files were saved to `OUTPUT_FOLDER`?\n",
    "\n",
    "* 1\n",
    "* 3\n",
    "* 4\n",
    "* 7\n",
    "\n",
    "[green-taxi-trip-data]: https://www1.nyc.gov/site/tlc/about/tlc-trip-record-data.page\n",
    "[homework-repo]: https://github.com/DataTalksClub/mlops-zoomcamp/tree/main/02-experiment-tracking/homework"
   ]
  },
  {
   "cell_type": "code",
   "execution_count": 2,
   "id": "616f2a72-b1b3-4d4a-bc36-f25b6850a47c",
   "metadata": {},
   "outputs": [],
   "source": [
    "from pathlib import Path\n",
    "import requests\n",
    "\n",
    "def download_nyc_green_taxi_trip_data(year_month: str, save_dir: str) -> str:\n",
    "    fname = f'green_tripdata_{year_month}.parquet'\n",
    "    \n",
    "    if not Path(f'{save_dir}/{fname}').exists():\n",
    "        r = requests.get(f'https://nyc-tlc.s3.amazonaws.com/trip+data/{fname}')\n",
    "    \n",
    "        with open(f'{save_dir}/{fname}', 'wb') as fout:\n",
    "            for chunk in r.iter_content(chunk_size=1024):\n",
    "                fout.write(chunk)\n",
    "            \n",
    "    return f'{save_dir}/{fname}'"
   ]
  },
  {
   "cell_type": "code",
   "execution_count": 3,
   "id": "49626f60-6a0c-46e4-8ae1-85e0b4cf8bc8",
   "metadata": {},
   "outputs": [],
   "source": [
    "DATA_DIR = '.'\n",
    "\n",
    "for year_month in ['2021-01', '2021-02', '2021-03']:\n",
    "    download_nyc_green_taxi_trip_data(year_month, DATA_DIR)"
   ]
  },
  {
   "cell_type": "code",
   "execution_count": 4,
   "id": "a460f54b-1325-4a43-a9b9-987b88e9432f",
   "metadata": {},
   "outputs": [],
   "source": [
    "!python homework2/preprocess_data.py --raw_data_path . --dest_path ./output"
   ]
  },
  {
   "cell_type": "code",
   "execution_count": 5,
   "id": "d489a541-f5a0-4ce2-ac0b-e0f5b8aba670",
   "metadata": {},
   "outputs": [
    {
     "name": "stdout",
     "output_type": "stream",
     "text": [
      "There are 4 files in ./output\n"
     ]
    }
   ],
   "source": [
    "items_in_output_dir = len(list(Path('./output').iterdir()))\n",
    "print(f'There are {items_in_output_dir} files in ./output')"
   ]
  },
  {
   "cell_type": "markdown",
   "id": "57079e7b-0f33-44ca-ad44-69db26d641d4",
   "metadata": {},
   "source": [
    "## Q3. Train a model with autolog\n",
    "\n",
    "We will train a random forest regressor (from Scikit-Learn) on the taxi dataset.\n",
    "\n",
    "We have prepared the training script `train.py` for this exercise, which can be also found in the folder `homework`. The script will load the datasets produced by the previous step, train the model on the training set and finally calculate the RMSE on the validation set.\n",
    "\n",
    "Your task is to modify the script to enable autologging with MLflow, execute the script and then launch the MLflow UI to check that the experiment run was properly tracked.\n",
    "\n",
    "Tip 1: don't forget to wrap the training code with a `with mlflow.start_run():` statement as we showed in the videos.\n",
    "\n",
    "Tip 2: don't modify the hyperparameters of the model to make sure that the training will finish quickly.\n",
    "\n",
    "How many parameters are automatically logged by MLflow?\n",
    "\n",
    "* 19\n",
    "* 17\n",
    "* 10\n",
    "* 20"
   ]
  },
  {
   "cell_type": "code",
   "execution_count": 6,
   "id": "c4ab9755-6d98-4872-ad17-9e4b054221f8",
   "metadata": {},
   "outputs": [
    {
     "name": "stderr",
     "output_type": "stream",
     "text": [
      "2022/05/30 21:37:37 WARNING mlflow.utils.autologging_utils: MLflow autologging encountered a warning: \"C:\\tools\\python\\envs\\mlops-zoomcamp\\lib\\site-packages\\_distutils_hack\\__init__.py:30: UserWarning: Setuptools is replacing distutils.\"\n"
     ]
    }
   ],
   "source": [
    "!python homework2/train.py --data_path ./output"
   ]
  },
  {
   "cell_type": "code",
   "execution_count": 7,
   "id": "872e3041-b0e7-45f2-a11e-abab64cb84f8",
   "metadata": {},
   "outputs": [
    {
     "name": "stdout",
     "output_type": "stream",
     "text": [
      "Number of parameters automatically logged: 17\n"
     ]
    }
   ],
   "source": [
    "from mlflow.tracking import MlflowClient\n",
    "\n",
    "client = MlflowClient()\n",
    "experiments = client.list_experiments()\n",
    "last_experiment = experiments[-1]\n",
    "run_infos = client.list_run_infos(last_experiment.experiment_id)\n",
    "last_run_info = run_infos[-1]\n",
    "run = client.get_run(last_run_info.run_id)\n",
    "run_params = run.data.params\n",
    "\n",
    "print(f'Number of parameters automatically logged: {len(run_params)}')"
   ]
  }
 ],
 "metadata": {
  "kernelspec": {
   "display_name": "Python 3 (ipykernel)",
   "language": "python",
   "name": "python3"
  },
  "language_info": {
   "codemirror_mode": {
    "name": "ipython",
    "version": 3
   },
   "file_extension": ".py",
   "mimetype": "text/x-python",
   "name": "python",
   "nbconvert_exporter": "python",
   "pygments_lexer": "ipython3",
   "version": "3.10.2"
  }
 },
 "nbformat": 4,
 "nbformat_minor": 5
}
