{
 "cells": [
  {
   "cell_type": "markdown",
   "id": "4d10ddc0-2cc0-4f7a-93c8-5f87d8c34658",
   "metadata": {},
   "source": [
    "# Homework 2\n",
    "\n",
    "The goal of this homework is to get familiar with MLflow.\n",
    "\n",
    "## Q1. Install MLflow\n",
    "\n",
    "To get started with MLflow you'll need to install the MLflow Python package.\n",
    "\n",
    "For this we recommend creating a separate Python environment, for example, you can use [conda environments][conda-env], and then install the package there with `pip` or `conda`.\n",
    "\n",
    "Once you installed the package, run the command `mlflow --version` and check the output.\n",
    "\n",
    "What's the version that you have?\n",
    "\n",
    "[conda-env]: https://docs.conda.io/projects/conda/en/latest/user-guide/getting-started.html#managing-envs"
   ]
  },
  {
   "cell_type": "code",
   "execution_count": 1,
   "id": "c1e286e0-62e1-46dc-b261-5085eea2fe06",
   "metadata": {},
   "outputs": [
    {
     "name": "stdout",
     "output_type": "stream",
     "text": [
      "mlflow, version 1.26.1\n"
     ]
    }
   ],
   "source": [
    "!mlflow --version"
   ]
  },
  {
   "cell_type": "markdown",
   "id": "49b02803-fe2e-42f8-b69e-880189bb94be",
   "metadata": {},
   "source": [
    "## Q2. Download and preprocess the data\n",
    "\n",
    "We'll use the Green Taxi Trip Records dataset.\n",
    "\n",
    "Download the data for January, February and March 2021 in parquet format from [here][green-taxi-trip-data].\n",
    "\n",
    "Use the script `preprocess_data.py` located in the folder [homework][homework-repo] to preprocess the data.\n",
    "\n",
    "The script will\n",
    "\n",
    "* load the data from the folder `<TAXI_DATA_FOLDER>` (the folder where you have downloaded the data),\n",
    "* fit a `DictVectorizer` on the training set (January 2021 data),\n",
    "* save the preprocessed datasets and the model to disk\n",
    "\n",
    "Your task is to download the datasets and then execute this command:\n",
    "\n",
    "```\n",
    "python preprocess_data.py --raw_data_path <TAXI_DATA_FOLDER> --dest_path ./output\n",
    "```\n",
    "\n",
    "Tip: go to `02-experiment-tracking/homework/` folder before executing the command and change the value of `<TAXI_DATA_FOLDER>` to the location where you saved the data.\n",
    "\n",
    "How many files were saved to `OUTPUT_FOLDER`?\n",
    "\n",
    "* 1\n",
    "* 3\n",
    "* 4\n",
    "* 7\n",
    "\n",
    "[green-taxi-trip-data]: https://www1.nyc.gov/site/tlc/about/tlc-trip-record-data.page\n",
    "[homework-repo]: https://github.com/DataTalksClub/mlops-zoomcamp/tree/main/02-experiment-tracking/homework"
   ]
  },
  {
   "cell_type": "code",
   "execution_count": 2,
   "id": "616f2a72-b1b3-4d4a-bc36-f25b6850a47c",
   "metadata": {},
   "outputs": [],
   "source": [
    "from pathlib import Path\n",
    "import requests\n",
    "\n",
    "def download_nyc_green_taxi_trip_data(year_month: str, save_dir: str) -> str:\n",
    "    fname = f'green_tripdata_{year_month}.parquet'\n",
    "    \n",
    "    if not Path(f'{save_dir}/{fname}').exists():\n",
    "        r = requests.get(f'https://nyc-tlc.s3.amazonaws.com/trip+data/{fname}')\n",
    "    \n",
    "        with open(f'{save_dir}/{fname}', 'wb') as fout:\n",
    "            for chunk in r.iter_content(chunk_size=1024):\n",
    "                fout.write(chunk)\n",
    "            \n",
    "    return f'{save_dir}/{fname}'"
   ]
  },
  {
   "cell_type": "code",
   "execution_count": 3,
   "id": "49626f60-6a0c-46e4-8ae1-85e0b4cf8bc8",
   "metadata": {},
   "outputs": [],
   "source": [
    "DATA_DIR = '.'\n",
    "\n",
    "for year_month in ['2021-01', '2021-02', '2021-03']:\n",
    "    download_nyc_green_taxi_trip_data(year_month, DATA_DIR)"
   ]
  },
  {
   "cell_type": "code",
   "execution_count": 4,
   "id": "a460f54b-1325-4a43-a9b9-987b88e9432f",
   "metadata": {},
   "outputs": [],
   "source": [
    "!python homework2/preprocess_data.py --raw_data_path . --dest_path ./output"
   ]
  },
  {
   "cell_type": "code",
   "execution_count": 5,
   "id": "d489a541-f5a0-4ce2-ac0b-e0f5b8aba670",
   "metadata": {},
   "outputs": [
    {
     "name": "stdout",
     "output_type": "stream",
     "text": [
      "There are 4 files in ./output\n"
     ]
    }
   ],
   "source": [
    "items_in_output_dir = len(list(Path('./output').iterdir()))\n",
    "print(f'There are {items_in_output_dir} files in ./output')"
   ]
  },
  {
   "cell_type": "markdown",
   "id": "57079e7b-0f33-44ca-ad44-69db26d641d4",
   "metadata": {},
   "source": [
    "## Q3. Train a model with autolog\n",
    "\n",
    "We will train a random forest regressor (from Scikit-Learn) on the taxi dataset.\n",
    "\n",
    "We have prepared the training script `train.py` for this exercise, which can be also found in the folder `homework`. The script will load the datasets produced by the previous step, train the model on the training set and finally calculate the RMSE on the validation set.\n",
    "\n",
    "Your task is to modify the script to enable autologging with MLflow, execute the script and then launch the MLflow UI to check that the experiment run was properly tracked.\n",
    "\n",
    "Tip 1: don't forget to wrap the training code with a `with mlflow.start_run():` statement as we showed in the videos.\n",
    "\n",
    "Tip 2: don't modify the hyperparameters of the model to make sure that the training will finish quickly.\n",
    "\n",
    "How many parameters are automatically logged by MLflow?\n",
    "\n",
    "* 19\n",
    "* 17\n",
    "* 10\n",
    "* 20"
   ]
  },
  {
   "cell_type": "code",
   "execution_count": 6,
   "id": "c4ab9755-6d98-4872-ad17-9e4b054221f8",
   "metadata": {},
   "outputs": [
    {
     "name": "stderr",
     "output_type": "stream",
     "text": [
      "2022/05/31 21:42:56 WARNING mlflow.utils.autologging_utils: MLflow autologging encountered a warning: \"C:\\tools\\python\\envs\\mlops-zoomcamp\\lib\\site-packages\\_distutils_hack\\__init__.py:30: UserWarning: Setuptools is replacing distutils.\"\n"
     ]
    }
   ],
   "source": [
    "!python homework2/train.py --data_path ./output"
   ]
  },
  {
   "cell_type": "code",
   "execution_count": 7,
   "id": "872e3041-b0e7-45f2-a11e-abab64cb84f8",
   "metadata": {},
   "outputs": [
    {
     "name": "stdout",
     "output_type": "stream",
     "text": [
      "Number of parameters automatically logged: 17\n"
     ]
    }
   ],
   "source": [
    "from mlflow.tracking import MlflowClient\n",
    "\n",
    "client = MlflowClient()\n",
    "experiments = client.list_experiments()\n",
    "last_experiment = experiments[-1]\n",
    "run_infos = client.list_run_infos(last_experiment.experiment_id)\n",
    "last_run_info = run_infos[-1]\n",
    "run = client.get_run(last_run_info.run_id)\n",
    "run_params = run.data.params\n",
    "\n",
    "print(f'Number of parameters automatically logged: {len(run_params)}')"
   ]
  },
  {
   "cell_type": "markdown",
   "id": "e81aa7bc-6658-448e-8eac-41759794e549",
   "metadata": {},
   "source": [
    "## Q4. Launch the tracking server locally\n",
    "\n",
    "We want to manage the entire lifecycle of our ML model. In this step, you'll need to launch a tracking server. This way we will also have access to the model registry.\n",
    "\n",
    "Your task is to\n",
    "\n",
    "* launch the tracking server on your local machine\n",
    "* select a SQLite db for the backend store and a folder called `artifacts` for the artifacts store\n",
    "\n",
    "You should keep the tracking server running to work on the next two exercises that use the server.\n",
    "\n",
    "In addition to `backend-store-uri`, what else do you need to pass to properly configure the server?\n",
    "\n",
    "* `default-artifact-root`\n",
    "* `serve-artifacts`\n",
    "* `artifacts-only`\n",
    "* `artifacts-destination`\n"
   ]
  },
  {
   "cell_type": "markdown",
   "id": "ce410d51-6b2c-458d-a729-080635865284",
   "metadata": {},
   "source": [
    "The following runs the tracking server that uses SQLite as the DB backend:\n",
    "\n",
    "```\n",
    "mlflow server \\\n",
    "  --host localhost \\\n",
    "  --port 5000 \\\n",
    "  --backend-store-uri sqlite:///mlflow.db \\\n",
    "  --default-artifact-root ./mlartifacts\n",
    "```\n",
    "\n",
    "If `--default-artifact-root` is not given, MLflow CLI will show the following error:\n",
    "\n",
    "```\n",
    "Option 'default-artifact-root' is required when backend store is not local file based.\n",
    "Usage: mlflow server [OPTIONS]\n",
    "Try 'mlflow server --help' for help.\n",
    "\n",
    "Error: Option 'default-artifact-root' is required when backend store is not local file based.\n",
    "```"
   ]
  },
  {
   "cell_type": "markdown",
   "id": "944c3a9f-03fd-4b2a-a2fc-53967f40187e",
   "metadata": {},
   "source": [
    "## Q5. Tune the hyperparameters of the model\n",
    "\n",
    "Now let's try to reduce the validation error by tuning the hyperparameters of the random forest regressor using `hyperopt`.\n",
    "\n",
    "We have prepared the script `hpo.py` for this exercise.\n",
    "\n",
    "Your task is to modify the script `hpo.py` and make sure that the validation RMSE is logged to MLflow for each run of the hyperparameter optimization (you will need to add a few lines of code to the `objective` function) and run the script without passing any parameters.\n",
    "\n",
    "After that, open the MLflow UI and explore the runs from the experiment called `random-forest-hyperopt` to answer the question below.\n",
    "\n",
    "Important: don't use autologging for this exercise.\n",
    "\n",
    "The idea is to just log the information that you need to answer the question below, including:\n",
    "\n",
    "* the list of hyperparameters that are passed to the `objective` function during the optimization.\n",
    "* the RMSE obtained on the validation set (February 2021 data).\n",
    "\n",
    "What's the best validation RMSE that you got?\n",
    "\n",
    "* 6.128\n",
    "* 6.628\n",
    "* 7.128\n",
    "* 7.628"
   ]
  },
  {
   "cell_type": "code",
   "execution_count": 8,
   "id": "6490a2e3-47ac-48f2-b015-adf8b1f6b3f7",
   "metadata": {},
   "outputs": [],
   "source": [
    "RFHP_NAME = 'random-forest-hyperopt'\n",
    "TRACKING_URI = 'http://localhost:5000'\n",
    "\n",
    "client = MlflowClient(TRACKING_URI)\n",
    "experiments = client.list_experiments()\n",
    "hyperopt_experiment_exists = any([e.name == RFHP_NAME for e in experiments])\n",
    "\n",
    "if not hyperopt_experiment_exists:\n",
    "    client.create_experiment(RFHP_NAME)"
   ]
  },
  {
   "cell_type": "code",
   "execution_count": 9,
   "id": "8c3116cc-969d-4743-8535-ab65359c0d8a",
   "metadata": {},
   "outputs": [
    {
     "name": "stdout",
     "output_type": "stream",
     "text": [
      "\n",
      "  0%|          | 0/50 [00:00<?, ?trial/s, best loss=?]\n",
      "  2%|2         | 1/50 [00:11<09:18, 11.39s/trial, best loss: 6.658956269343007]\n",
      "  4%|4         | 2/50 [00:12<04:15,  5.33s/trial, best loss: 6.658956269343007]\n",
      "  6%|6         | 3/50 [00:13<02:47,  3.56s/trial, best loss: 6.658956269343007]\n",
      "  8%|8         | 4/50 [00:21<04:02,  5.27s/trial, best loss: 6.651438559376775]\n",
      " 10%|#         | 5/50 [00:25<03:33,  4.74s/trial, best loss: 6.651438559376775]\n",
      " 12%|#2        | 6/50 [00:38<05:30,  7.51s/trial, best loss: 6.651438559376775]\n",
      " 14%|#4        | 7/50 [00:50<06:23,  8.92s/trial, best loss: 6.651438559376775]\n",
      " 16%|#6        | 8/50 [00:52<04:40,  6.67s/trial, best loss: 6.651438559376775]\n",
      " 18%|#8        | 9/50 [00:59<04:42,  6.89s/trial, best loss: 6.651438559376775]\n",
      " 20%|##        | 10/50 [01:06<04:30,  6.75s/trial, best loss: 6.651438559376775]\n",
      " 22%|##2       | 11/50 [01:11<04:07,  6.35s/trial, best loss: 6.642137287429206]\n",
      " 24%|##4       | 12/50 [01:15<03:33,  5.63s/trial, best loss: 6.642137287429206]\n",
      " 26%|##6       | 13/50 [01:17<02:44,  4.45s/trial, best loss: 6.642137287429206]\n",
      " 28%|##8       | 14/50 [01:21<02:43,  4.54s/trial, best loss: 6.642137287429206]\n",
      " 30%|###       | 15/50 [01:29<03:07,  5.36s/trial, best loss: 6.642137287429206]\n",
      " 32%|###2      | 16/50 [01:33<02:51,  5.05s/trial, best loss: 6.642137287429206]\n",
      " 34%|###4      | 17/50 [01:40<03:07,  5.68s/trial, best loss: 6.642137287429206]\n",
      " 36%|###6      | 18/50 [01:53<04:06,  7.70s/trial, best loss: 6.629728007710133]\n",
      " 38%|###8      | 19/50 [01:56<03:15,  6.32s/trial, best loss: 6.629728007710133]\n",
      " 40%|####      | 20/50 [01:58<02:31,  5.05s/trial, best loss: 6.629728007710133]\n",
      " 42%|####2     | 21/50 [02:14<04:02,  8.35s/trial, best loss: 6.629728007710133]\n",
      " 44%|####4     | 22/50 [02:26<04:27,  9.55s/trial, best loss: 6.629728007710133]\n",
      " 46%|####6     | 23/50 [02:45<05:30, 12.26s/trial, best loss: 6.629728007710133]\n",
      " 48%|####8     | 24/50 [03:01<05:48, 13.42s/trial, best loss: 6.629728007710133]\n",
      " 50%|#####     | 25/50 [03:13<05:22, 12.91s/trial, best loss: 6.629728007710133]\n",
      " 52%|#####2    | 26/50 [03:25<05:05, 12.73s/trial, best loss: 6.629728007710133]\n",
      " 54%|#####4    | 27/50 [03:31<04:07, 10.76s/trial, best loss: 6.629728007710133]\n",
      " 56%|#####6    | 28/50 [03:45<04:19, 11.78s/trial, best loss: 6.629728007710133]\n",
      " 58%|#####8    | 29/50 [03:50<03:20,  9.56s/trial, best loss: 6.629728007710133]\n",
      " 60%|######    | 30/50 [04:03<03:32, 10.64s/trial, best loss: 6.629728007710133]\n",
      " 62%|######2   | 31/50 [04:04<02:29,  7.85s/trial, best loss: 6.629728007710133]\n",
      " 64%|######4   | 32/50 [04:12<02:24,  8.02s/trial, best loss: 6.629728007710133]\n",
      " 66%|######6   | 33/50 [04:27<02:46,  9.82s/trial, best loss: 6.629728007710133]\n",
      " 68%|######8   | 34/50 [04:40<02:52, 10.81s/trial, best loss: 6.6284257482044735]\n",
      " 70%|#######   | 35/50 [04:46<02:24,  9.62s/trial, best loss: 6.6284257482044735]\n",
      " 72%|#######2  | 36/50 [04:54<02:04,  8.92s/trial, best loss: 6.6284257482044735]\n",
      " 74%|#######4  | 37/50 [04:55<01:24,  6.53s/trial, best loss: 6.6284257482044735]\n",
      " 76%|#######6  | 38/50 [05:04<01:26,  7.21s/trial, best loss: 6.6284257482044735]\n",
      " 78%|#######8  | 39/50 [05:15<01:33,  8.54s/trial, best loss: 6.6284257482044735]\n",
      " 80%|########  | 40/50 [05:27<01:33,  9.39s/trial, best loss: 6.6284257482044735]\n",
      " 82%|########2 | 41/50 [05:29<01:05,  7.31s/trial, best loss: 6.6284257482044735]\n",
      " 84%|########4 | 42/50 [05:34<00:52,  6.62s/trial, best loss: 6.6284257482044735]\n",
      " 86%|########6 | 43/50 [05:41<00:47,  6.83s/trial, best loss: 6.6284257482044735]\n",
      " 88%|########8 | 44/50 [05:51<00:46,  7.68s/trial, best loss: 6.6284257482044735]\n",
      " 90%|######### | 45/50 [05:56<00:34,  6.84s/trial, best loss: 6.6284257482044735]\n",
      " 92%|#########2| 46/50 [05:58<00:21,  5.32s/trial, best loss: 6.6284257482044735]\n",
      " 94%|#########3| 47/50 [06:05<00:18,  6.01s/trial, best loss: 6.6284257482044735]\n",
      " 96%|#########6| 48/50 [06:09<00:10,  5.35s/trial, best loss: 6.6284257482044735]\n",
      " 98%|#########8| 49/50 [06:16<00:05,  5.82s/trial, best loss: 6.6284257482044735]\n",
      "100%|##########| 50/50 [06:24<00:00,  6.53s/trial, best loss: 6.6284257482044735]\n",
      "100%|##########| 50/50 [06:24<00:00,  7.69s/trial, best loss: 6.6284257482044735]\n"
     ]
    }
   ],
   "source": [
    "!python homework2/hpo.py"
   ]
  },
  {
   "cell_type": "code",
   "execution_count": 10,
   "id": "4e5b91e2-a587-4c36-ba8b-d3475fe6f297",
   "metadata": {},
   "outputs": [
    {
     "name": "stdout",
     "output_type": "stream",
     "text": [
      "Best validation score is: 6.628\n"
     ]
    }
   ],
   "source": [
    "hyperopt_experiment = client.get_experiment_by_name(RFHP_NAME)\n",
    "runs = [run for run in client.list_run_infos(hyperopt_experiment.experiment_id) if run.status == 'FINISHED']\n",
    "metrics = [client.get_run(run.run_id).data.metrics for run in runs]\n",
    "scores = [m['rmse'] for m in metrics if 'rmse' in m]\n",
    "best_score = min(scores)\n",
    "print(f'Best validation score is: {best_score:.3f}')"
   ]
  }
 ],
 "metadata": {
  "kernelspec": {
   "display_name": "Python 3 (ipykernel)",
   "language": "python",
   "name": "python3"
  },
  "language_info": {
   "codemirror_mode": {
    "name": "ipython",
    "version": 3
   },
   "file_extension": ".py",
   "mimetype": "text/x-python",
   "name": "python",
   "nbconvert_exporter": "python",
   "pygments_lexer": "ipython3",
   "version": "3.10.2"
  }
 },
 "nbformat": 4,
 "nbformat_minor": 5
}
