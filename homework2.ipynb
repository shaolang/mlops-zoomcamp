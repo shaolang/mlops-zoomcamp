{
 "cells": [
  {
   "cell_type": "markdown",
   "id": "4d10ddc0-2cc0-4f7a-93c8-5f87d8c34658",
   "metadata": {},
   "source": [
    "# Homework 2\n",
    "\n",
    "The goal of this homework is to get familiar with MLflow.\n",
    "\n",
    "## Q1. Install MLflow\n",
    "\n",
    "To get started with MLflow you'll need to install the MLflow Python package.\n",
    "\n",
    "For this we recommend creating a separate Python environment, for example, you can use [conda environments][conda-env], and then install the package there with `pip` or `conda`.\n",
    "\n",
    "Once you installed the package, run the command `mlflow --version` and check the output.\n",
    "\n",
    "What's the version that you have?\n",
    "\n",
    "[conda-env]: https://docs.conda.io/projects/conda/en/latest/user-guide/getting-started.html#managing-envs"
   ]
  },
  {
   "cell_type": "code",
   "execution_count": 1,
   "id": "c1e286e0-62e1-46dc-b261-5085eea2fe06",
   "metadata": {},
   "outputs": [
    {
     "name": "stdout",
     "output_type": "stream",
     "text": [
      "mlflow, version 1.26.1\n"
     ]
    }
   ],
   "source": [
    "!mlflow --version"
   ]
  }
 ],
 "metadata": {
  "kernelspec": {
   "display_name": "Python 3 (ipykernel)",
   "language": "python",
   "name": "python3"
  },
  "language_info": {
   "codemirror_mode": {
    "name": "ipython",
    "version": 3
   },
   "file_extension": ".py",
   "mimetype": "text/x-python",
   "name": "python",
   "nbconvert_exporter": "python",
   "pygments_lexer": "ipython3",
   "version": "3.10.2"
  }
 },
 "nbformat": 4,
 "nbformat_minor": 5
}
