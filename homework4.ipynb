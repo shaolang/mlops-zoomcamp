{
 "cells": [
  {
   "cell_type": "markdown",
   "id": "30ae6655-44b5-46aa-8027-2d03c30afa66",
   "metadata": {},
   "source": [
    "# Homework 4\n",
    "In this homework, we'll deploy the ride duration model in batch mode. Like in homework 1 and 3, we'll use the FHV data.\n",
    "\n",
    "You'll find the starter code in the [homework][homework-src] directory.\n",
    "\n",
    "## Q1. Notebook\n",
    "\n",
    "We'll start with the same notebook we ended up with in homework 1.\n",
    "\n",
    "We cleaned it a little bit and kept only the scoring part. Now it's in [homework/starter.ipynb](./homework4/starter.ipynb).\n",
    "\n",
    "Run this notebook for the February 2021 FVH data.\n",
    "\n",
    "What's the mean predicted duration for this dataset?\n",
    "\n",
    "* 11.19\n",
    "* 16.19\n",
    "* 21.19\n",
    "* 26.19\n",
    "\n",
    "[homework-src]: https://github.com/DataTalksClub/mlops-zoomcamp/blob/main/04-deployment/homework"
   ]
  },
  {
   "cell_type": "markdown",
   "id": "ece553b0-e7e8-4fe9-abdb-872a94ca54b4",
   "metadata": {},
   "source": [
    "Answer: 16.19"
   ]
  },
  {
   "cell_type": "markdown",
   "id": "e0118147-c9d9-472b-8af5-4d8a7e138ff0",
   "metadata": {},
   "source": [
    "## Q2. Preparing the output\n",
    "\n",
    "Like in the course videos, we want to prepare the dataframe with the output.\n",
    "\n",
    "First, let's create an artificial `ride_id` column:\n",
    "\n",
    "```\n",
    "df['ride_id'] = f'{year:04d}/{month:02d}_' + df.index.astype('str')\n",
    "```\n",
    "\n",
    "Next, write the ride id and the predictions to a dataframe with results.\n",
    "\n",
    "Save it as parquet:\n",
    "\n",
    "```\n",
    "df_result.to_parquet(\n",
    "    output_file,\n",
    "    engine='pyarrow',\n",
    "    compression=None,\n",
    "    index=False\n",
    ")\n",
    "```\n",
    "\n",
    "What's the size of the output file?\n",
    "\n",
    "* 9M\n",
    "* 19M\n",
    "* 29M\n",
    "* 39M\n",
    "\n",
    "Make sure you use the snippet above for saving the file. It should contain only these two columns. For this question, don't change the dtypes of the columns and use pyarrow, not fastparquet."
   ]
  },
  {
   "cell_type": "code",
   "execution_count": 1,
   "id": "ed8c51eb-215b-45c9-af44-4aedc4c47b03",
   "metadata": {},
   "outputs": [
    {
     "name": "stdout",
     "output_type": "stream",
     "text": [
      "File Size is: 18.8 MB.\n"
     ]
    }
   ],
   "source": [
    "import os\n",
    " \n",
    "file_size = os.path.getsize('./homework4/ride_predictions.parquet') / 1024**2\n",
    "print(f'File Size is: {file_size:,.1f} MB.')"
   ]
  },
  {
   "cell_type": "markdown",
   "id": "8e36216d-ba89-47e2-bb3b-6a362a50255b",
   "metadata": {},
   "source": [
    "## Q3. Creating the scoring script\n",
    "\n",
    "Now let's turn the notebook into a script.\n",
    "\n",
    "Which command you need to execute for that?"
   ]
  },
  {
   "cell_type": "code",
   "execution_count": 2,
   "id": "64d10b1a-dfff-468e-a8e5-9339f46c8412",
   "metadata": {},
   "outputs": [
    {
     "name": "stderr",
     "output_type": "stream",
     "text": [
      "[NbConvertApp] Converting notebook ./homework4/starter.ipynb to script\n",
      "[NbConvertApp] Writing 1268 bytes to homework4\\starter.py\n"
     ]
    }
   ],
   "source": [
    "!jupyter nbconvert --to script ./homework4/starter.ipynb"
   ]
  },
  {
   "cell_type": "markdown",
   "id": "4fcbe508-f0cc-4ea4-a054-cd84e25d9871",
   "metadata": {},
   "source": [
    "Answer: `jupyter nbconvert ...`"
   ]
  },
  {
   "cell_type": "markdown",
   "id": "e4d0ec36-e719-43b3-a4b5-0537b5ba5c9e",
   "metadata": {},
   "source": [
    "## Q4. Virtual environment\n",
    "\n",
    "Now let's put everything into a virtual environment. We'll use pipenv for that.\n",
    "\n",
    "Install all the required libraries. Pay attention to the Scikit-Learn version: check the starter notebook for details.\n",
    "\n",
    "After installing the libraries, pipenv creates two files: `Pipfile` and `Pipfile.lock`. The `Pipfile.lock` file keeps the hashes of the dependencies we use for the virtual env.\n",
    "\n",
    "What's the first hash for the Scikit-Learn dependency?"
   ]
  },
  {
   "cell_type": "code",
   "execution_count": 3,
   "id": "ef58e281-4dbb-4be3-b5d1-ccdcc4ad4ae3",
   "metadata": {},
   "outputs": [
    {
     "name": "stdout",
     "output_type": "stream",
     "text": [
      "sha256:0403ad13f283e27d43b0ad875f187ec7f5d964903d92d1ed06c51439560ecea0\n"
     ]
    }
   ],
   "source": [
    "import json\n",
    "\n",
    "with open('Pipfile.lock') as fin:\n",
    "    doc = json.load(fin)\n",
    "    print(doc['default']['scikit-learn']['hashes'][0])"
   ]
  }
 ],
 "metadata": {
  "kernelspec": {
   "display_name": "Python 3 (ipykernel)",
   "language": "python",
   "name": "python3"
  },
  "language_info": {
   "codemirror_mode": {
    "name": "ipython",
    "version": 3
   },
   "file_extension": ".py",
   "mimetype": "text/x-python",
   "name": "python",
   "nbconvert_exporter": "python",
   "pygments_lexer": "ipython3",
   "version": "3.10.2"
  }
 },
 "nbformat": 4,
 "nbformat_minor": 5
}
