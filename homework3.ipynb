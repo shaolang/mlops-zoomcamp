{
 "cells": [
  {
   "cell_type": "markdown",
   "id": "1a4a93e6-ba34-4c90-bf1a-72bd4a48292a",
   "metadata": {},
   "source": [
    "# Homework 3\n",
    "\n",
    "The goal of this homework is to familiarize users with workflow orchestration. We start from the solution of homework 1. The notebook can be found below:\n",
    "\n",
    "https://github.com/DataTalksClub/mlops-zoomcamp/blob/main/01-intro/homework.ipynb\n",
    "\n",
    "This has already been converted to a script called `homework.py` in the `03-orchestration` folder of this repo.\n",
    "\n",
    "You will use the FHV dataset like in homework 1.\n",
    "\n",
    "## Motivation\n",
    "\n",
    "We already have a model training script. Maybe a data scientist in your team handed it to you and your job is schedule the running of training script using a workflow orchestration - Prefect in this case. Below are the requirements. Do not implement them yet, we will do so in this exercise. Just understand the goal.\n",
    "\n",
    "1. The training flow will be run every month.\n",
    "2. The flow will take in a parameter called `date` which will be a datetime.\n",
    "   a. `date` should default to `None`\n",
    "   b. If date is None, set date as the current day.\n",
    "   Use the data from 2 months back as the training data and the data from the previous month as validation data. c. If date is passed, get 2 months before the date as the training data, and the previous month as validation data. d. As a concrete example, if the `date` passed is \"2021-03-15\", the training data should be \"fhv_tripdata_2021-01.parquet\" and the validation file will be \"fhv_trip_data_2021-02.parquet\"\n",
    "3. Save the model as \"model-{date}.pkl\" where date is in `YYYY-MM-DD`. Note that `date` here is the value of the flow `parameter`. In practice, this setup makes it very easy to get the latest model to run predictions because you just need to get the most recent one.\n",
    "4. In this example we use a DictVectorizer. That is needed to run future data through our model. Save that as \"dv-{date}.pkl\". Similar to above, if the date is `2021-03-15`, the files output should be `model-2021-03-15.bin` and `dv-2021-03-15.b`.\n",
    "\n",
    "This convention is not strict in industry, and in practice, you will come up with your own system to manage these training pipeline runs. For example, if we wanted to train on the whole history instead of just one month, we'd need to allow for added parameterization and logic in our flow. If the data came in weekly instead of monthly, we might need a different naming convention. But these requirements are already a simple approximation of something you could use in production.\n",
    "\n",
    "On the deployment side, it's very easy to just pull in the latest data and predict it using the latest model and vectorizer files. Tools the MLFlow in the last chapter can simplify that process as well. This homework will focus more on the batch training.\n",
    "\n",
    "In order, this homework assignment will be about:\n",
    "\n",
    "1. Converting the script to a Flow\n",
    "2. Changing the parameters to take in a `date`. Making this parameter dynamic.\n",
    "3. Scheduling a batch training job that outputs the latest model somewhere\n",
    "\n",
    "## Setup\n",
    "\n",
    "You can use either local Prefect Orion or a VM hosted Prefect Orion instance for this. It shouldn't matter. Just note that if you use a VM hosted one, you will need to configure your local API to hit the VM.\n",
    "\n",
    "Video 3.4 of the course will give more detailed instructions if you been run it on a VM.\n",
    "\n",
    "## Q1. Converting the script to a Prefect flow\n",
    "\n",
    "If you want to follow the videos exactly, do:\n",
    "\n",
    "```\n",
    "pip install prefect==2.0b5\n",
    "```\n",
    "\n",
    "If you need Windows support, check `windows.md` for installation instructions.\n",
    "\n",
    "The current script `homework.py` is a fully functional script as long as you already have `fhv_trip_data_2021-01.parquet` and `fhv_trip_data_2021-02.parquet` inside a `data` folder. You should be able to already run it using:\n",
    "\n",
    "```\n",
    "python homework.py\n",
    "```\n",
    "\n",
    "We want to bring this to workflow orchestration to add observability around it. The `main` function will be converted to a `flow` and the other functions will be tasks. After adding all of the decorators, there is actually one `task` that you will need to call `.result()` for inside the `flow` to get it to work. Which task is this?\n",
    "\n",
    "* `read_data`\n",
    "* `prepare_features`\n",
    "* `train_model`\n",
    "* `run_model`\n",
    "\n",
    "Important: change all print statements to use the Prefect logger. Using the `print` statement will not appear in the Prefect UI. You have to call `get_run_logger` at the start of the task to use it."
   ]
  },
  {
   "cell_type": "markdown",
   "id": "8ced0370-08d7-467a-a66c-ba016612cd42",
   "metadata": {},
   "source": [
    "Answer: `train_model`\n",
    "\n",
    "[Using resutls from tasks][task-results] in Prefect's documentation states that tasks returns [`PrefectFuture`][prefectfuture]. When the returned value of one task is given directly to another task, the receiving task will \"unwrap\" the given `PrefectFuture` before running the function. However, `run_model` destructures `train_model`'s in `@flow main`, explicitly calling `.result()` is necessary. The code in question is as follows:\n",
    "\n",
    "```python\n",
    "@flow(task_runner=SequentialTaskRunner())\n",
    "def main(train_path: str = './data/fhv_tripdata_2021-01.parquet',\n",
    "           val_path: str = './data/fhv_tripdata_2021-02.parquet'):\n",
    "\n",
    "    categorical = ['PUlocationID', 'DOlocationID']\n",
    "\n",
    "    df_train = read_data(train_path)\n",
    "    df_train_processed = prepare_features(df_train, categorical)     # no need for df_train.result(), 'cos `prepare_feature` task will \"unwrap\" it automatically\n",
    "\n",
    "    df_val = read_data(val_path)\n",
    "    df_val_processed = prepare_features(df_val, categorical, False)    \n",
    "    # train the model\n",
    "    lr, dv = train_model(df_train_processed, categorical).result()   # destructuring returned value here, thus calling .result() is necessary\n",
    "    run_model(df_val_processed, categorical, dv, lr)\n",
    "```\n",
    "\n",
    "[task-results]: https://orion-docs.prefect.io/concepts/tasks/#using-results-from-tasks\n",
    "[prefectfuture]: https://orion-docs.prefect.io/api-ref/prefect/futures/#prefect.futures.PrefectFuture"
   ]
  },
  {
   "cell_type": "markdown",
   "id": "01f0434f-f96a-4322-90d9-c6a9aaff0003",
   "metadata": {},
   "source": [
    "## Q2. Parameterizing the flow\n",
    "\n",
    "Right now there are two parameters for `main()` called `train_path` and `val_path`. We want to change the flow function to accept `date` instead. `date` should then be passed to a task that gives both the `train_path` and `val_path` to use.\n",
    "\n",
    "It should look like this:\n",
    "\n",
    "```\n",
    "@flow\n",
    "def main(date=None):\n",
    "    train_path, val_path = get_paths(date).result()\n",
    "    # rest of flow below\n",
    "```\n",
    "\n",
    "Where `get_paths` is a task that you have to implement. The specs for this are outlined in the motivation section. Listing them out again here:\n",
    "\n",
    "The flow will take in a parameter called `date` which will be a datetime. a. `date` should default to `None` b. If `date` is `None`, use the current day. Use the data from 2 months back as the training data and the data from the previous month as validation data. c. If a `date` value is supplied, get 2 months before the `date` as the training data, and the previous month as validation data. d. As a concrete example, if the date passed is \"2021-03-15\", the training data should be \"fhv_tripdata_2021-01.parquet\" and the validation file will be \"fhv_trip_data_2021-02.parquet\"\n",
    "\n",
    "Because we have two files:\n",
    "* fhv_tripdata_2021-01.parquet\n",
    "* fhv_tripdata_2021-02.parquet\n",
    "\n",
    "Change the `main()` flow call to the following:\n",
    "\n",
    "```python\n",
    "main(date=\"2021-03-15\")\n",
    "```\n",
    "\n",
    "and it should use those files. This is a simplification for testing our homework.\n",
    "\n",
    "Recall the page from where we downloaded the For-Hire trip data.\n",
    "\n",
    "https://www1.nyc.gov/site/tlc/about/tlc-trip-record-data.page\n",
    "\n",
    "Download the relevant files needed to run the `main` flow if `date` is 2021-08-15.\n",
    "\n",
    "For example:\n",
    "\n",
    "```python\n",
    "main(date=\"2021-08-15\")\n",
    "```\n",
    "\n",
    "By setting up the logger from the previous step, we should see some logs about our training job. What is the validation MSE when running the flow with this date?\n",
    "\n",
    "Note you need to download the relevant files to run. Part of this question is understanding which files the flow should be looking for.\n",
    "\n",
    "The validation MSE is:\n",
    "\n",
    "* 11.637\n",
    "* 11.837\n",
    "* 12.037\n",
    "* 12.237\n"
   ]
  },
  {
   "cell_type": "code",
   "execution_count": 1,
   "id": "e3e8e7c7-05bc-49e1-9491-4da92c929e6b",
   "metadata": {},
   "outputs": [
    {
     "name": "stdout",
     "output_type": "stream",
     "text": [
      "The MSE of validation is: 11.859446527148531\n"
     ]
    },
    {
     "name": "stderr",
     "output_type": "stream",
     "text": [
      "22:07:23.056 | INFO    | prefect.engine - Created flow run 'fluffy-caracara' for flow 'main'\n",
      "22:07:23.056 | INFO    | Flow run 'fluffy-caracara' - Using task runner 'SequentialTaskRunner'\n",
      "22:07:23.074 | WARNING | Flow run 'fluffy-caracara' - No default storage is configured on the server. Results from this flow run will be stored in a temporary directory in its runtime environment.\n",
      "22:07:23.156 | INFO    | Flow run 'fluffy-caracara' - Created task run 'get_paths-6e696e34-0' for task 'get_paths'\n",
      "22:07:23.254 | INFO    | Task run 'get_paths-6e696e34-0' - Finished in state Completed()\n",
      "22:07:23.291 | INFO    | Flow run 'fluffy-caracara' - Created task run 'download_nyc_for_hire_vehicle-84f7b17c-0' for task 'download_nyc_for_hire_vehicle'\n",
      "22:07:23.330 | INFO    | Task run 'download_nyc_for_hire_vehicle-84f7b17c-0' - Downloaded file to data\\fhv_tripdata_2021-07.parquet\n",
      "22:07:23.370 | INFO    | Task run 'download_nyc_for_hire_vehicle-84f7b17c-0' - Finished in state Completed()\n",
      "22:07:23.406 | INFO    | Flow run 'fluffy-caracara' - Created task run 'download_nyc_for_hire_vehicle-84f7b17c-1' for task 'download_nyc_for_hire_vehicle'\n",
      "22:07:23.445 | INFO    | Task run 'download_nyc_for_hire_vehicle-84f7b17c-1' - Downloaded file to data\\fhv_tripdata_2021-06.parquet\n",
      "22:07:23.479 | INFO    | Task run 'download_nyc_for_hire_vehicle-84f7b17c-1' - Finished in state Completed()\n",
      "22:07:23.519 | INFO    | Flow run 'fluffy-caracara' - Created task run 'read_data-4c7f9de4-0' for task 'read_data'\n",
      "22:07:26.539 | INFO    | Task run 'read_data-4c7f9de4-0' - Finished in state Completed()\n",
      "22:07:26.578 | INFO    | Flow run 'fluffy-caracara' - Created task run 'prepare_features-4ee39d9f-0' for task 'prepare_features'\n",
      "22:07:26.726 | INFO    | Task run 'prepare_features-4ee39d9f-0' - The mean duration of training is 17.91113046137945\n",
      "22:07:31.028 | INFO    | Task run 'prepare_features-4ee39d9f-0' - Finished in state Completed()\n",
      "22:07:31.076 | INFO    | Flow run 'fluffy-caracara' - Created task run 'read_data-4c7f9de4-1' for task 'read_data'\n",
      "22:07:34.355 | INFO    | Task run 'read_data-4c7f9de4-1' - Finished in state Completed()\n",
      "22:07:34.403 | INFO    | Flow run 'fluffy-caracara' - Created task run 'prepare_features-4ee39d9f-1' for task 'prepare_features'\n",
      "22:07:34.556 | INFO    | Task run 'prepare_features-4ee39d9f-1' - The mean duration of validation is 18.230538791569113\n",
      "22:07:39.231 | INFO    | Task run 'prepare_features-4ee39d9f-1' - Finished in state Completed()\n",
      "22:07:39.358 | INFO    | Flow run 'fluffy-caracara' - Created task run 'train_model-7c866860-0' for task 'train_model'\n",
      "22:07:43.108 | INFO    | Task run 'train_model-7c866860-0' - The shape of X_train is (1158468, 526)\n",
      "22:07:43.108 | INFO    | Task run 'train_model-7c866860-0' - The DictVectorizer has 526 features\n",
      "22:07:48.665 | INFO    | Task run 'train_model-7c866860-0' - The MSE of training is: 11.55856067244217\n",
      "22:07:48.762 | INFO    | Task run 'train_model-7c866860-0' - Finished in state Completed()\n",
      "22:07:48.796 | INFO    | Flow run 'fluffy-caracara' - Created task run 'run_model-6559300c-0' for task 'run_model'\n",
      "22:07:52.686 | INFO    | Task run 'run_model-6559300c-0' - The MSE of validation is: 11.859446527148531\n",
      "22:07:52.783 | INFO    | Task run 'run_model-6559300c-0' - Finished in state Completed()\n",
      "22:08:01.222 | INFO    | Flow run 'fluffy-caracara' - Finished in state Completed('All states completed.')\n"
     ]
    }
   ],
   "source": [
    "!python homework3/homework.py"
   ]
  },
  {
   "cell_type": "markdown",
   "id": "a6975f2b-1eb8-4a62-9414-1966550511d1",
   "metadata": {},
   "source": [
    "## Q3. Saving the model and artifacts\n",
    "\n",
    "At the moment, we are not saving the model and vectorizer for future use. You don't need a new task for this, you can just add it inside the `flow`. The requirements for filenames to save it as were mentioned in the Motivation section. They are pasted again here:\n",
    "\n",
    "* Save the model as \"model-{date}.bin\" where date is in `YYYY-MM-DD`. Note that `date` here is the value of the flow `parameter`. In practice, this setup makes it very easy to get the latest model to run predictions because you just need to get the most recent one.\n",
    "* In this example we use a DictVectorizer. That is needed to run future data through our model. Save that as \"dv-{date}.b\". Similar to above, if the date is `2021-03-15`, the files output should be `model-2021-03-15.bin` and `dv-2021-03-15.b`.\n",
    "\n",
    "By using this file name, during inference, we can just pull the latest model from our model directory and apply it. Assuming we already had a list of filenames:\n",
    "\n",
    "```\n",
    "['model-2021-03-15.bin', 'model-2021-04-15.bin', 'model-2021-05-15.bin']\n",
    "```\n",
    "\n",
    "We could do something like `sorted(model_list, reverse=False)[0]` to get the filename of the latest file. This is the simplest way to consistently use the latest trained model for inference. Tools like MLFlow give us more control logic to use flows.\n",
    "\n",
    "What is the file size of the `DictVectorizer` that we trained when the `date` is 2021-08-15?\n",
    "\n",
    "* 13,000 bytes\n",
    "* 23,000 bytes\n",
    "* 33,000 bytes\n",
    "* 43,000 bytes\n",
    "\n",
    "You can bring up the Orion UI and see the work you've been doing. If you are using local Orion, you can start the server with:\n",
    "\n",
    "```\n",
    "prefect orion start\n",
    "```\n",
    "\n",
    "You should be able to see previous Flow runs and the most recent successful runs. Navigate to some of them. Take time to explore the UI. The radar plot would be a good thing to share on social media if you participate in those posts."
   ]
  },
  {
   "cell_type": "code",
   "execution_count": 4,
   "id": "207359a0-28b0-4c90-9438-db20bf84d46f",
   "metadata": {},
   "outputs": [
    {
     "name": "stdout",
     "output_type": "stream",
     "text": [
      "File size of DictVectorizer is 13,218 bytes\n"
     ]
    }
   ],
   "source": [
    "from pathlib import Path\n",
    "\n",
    "dv_path = Path('./artifacts/dv-2021-08-15.b')\n",
    "print(f'File size of DictVectorizer is {dv_path.stat().st_size:,d} bytes')"
   ]
  },
  {
   "cell_type": "markdown",
   "id": "ea7c0891-6f02-429a-a763-e12fc8acb083",
   "metadata": {},
   "source": [
    "## Q4. Creating a deployment with a CronSchedule\n",
    "\n",
    "We previously showed the `IntervalSchedule` in the video tutorials. In some cases, the interval is too rigid. For example, what if we wanted to run this `flow` on the 15th of every month? An interval of 30 days would not be in sync. In cases like these, the `CronSchedule` is more appropriate. The documentation for that is [here][cronscheduler]\n",
    "\n",
    "Cron is an important part of workflow orchestration. It is used to schedule tasks, and was a predecessor for more mature orchestration frameworks. A lot of teams still use Cron in production. Even if you don't use Cron, the Cron expression is very common as a way to write a schedule, and the basics are worth learning for orchestration, even outside Prefect.\n",
    "\n",
    "For this exercise, use a `CronSchedule` when creating a Prefect deployment.\n",
    "\n",
    "What is the Cron expression to run a flow at 9 AM every 15th of the month?\n",
    "\n",
    "* `* * 15 9 0`\n",
    "* `9 15 * * *`\n",
    "* `0 9 15 * *`\n",
    "* `0 15 9 1 *`\n",
    "\n",
    "Hint: there are many Cron to English tools. Try looking for one to help you.\n",
    "\n",
    "Create a deployment with prefect deployment create after you write your `DeploymentSpec`\n",
    "\n",
    "[cronscheduler]: https://orion-docs.prefect.io/concepts/schedules/#cronschedule"
   ]
  },
  {
   "cell_type": "markdown",
   "id": "cd52777d-f647-47aa-9177-ad9bf4ea7b0a",
   "metadata": {},
   "source": [
    "Answer: `0 9 15 * *` "
   ]
  },
  {
   "cell_type": "markdown",
   "id": "cd6662ba-203c-4630-8cdb-3d680e2d9a2e",
   "metadata": {},
   "source": [
    "# Q5. Viewing the Deployment\n",
    "\n",
    "View the deployment in the UI. When first loading, we may not see that many flows because the default filter is 1 day back and 1 day forward. Remove the filter for 1 day forward to see the scheduled runs.\n",
    "\n",
    "How many flow runs are scheduled by Prefect in advance? You should not be counting manually. There is a number of upcoming runs on the top right of the dashboard.\n",
    "\n",
    "* 0\n",
    "* 3\n",
    "* 10\n",
    "* 25"
   ]
  },
  {
   "cell_type": "code",
   "execution_count": 11,
   "id": "db967c2e-a7d8-4e50-9523-9d06fb3da0f6",
   "metadata": {},
   "outputs": [
    {
     "name": "stdout",
     "output_type": "stream",
     "text": [
      "                                   Flow Runs                                   \n",
      "+-----------------------------------------------------------------------------+\n",
      "|                                 ID | F… | Name         | State   | When     |\n",
      "|------------------------------------+----+--------------+---------+----------|\n",
      "| 217ee2b0-507f-4334-b1df-0527f12cf… | m… | crafty-fenn… | SCHEDU… | in 3 mo… |\n",
      "| b50ef7c0-d96e-4c39-a514-075e2d5a0… | m… | diligent-fi… | SCHEDU… | in 2 mo… |\n",
      "| 89dece6b-ea04-4b6e-9581-87277724e… | m… | chubby-koel  | SCHEDU… | in 1 mo… |\n",
      "| b8a9639c-4aa1-43ed-9bfe-32bb32292… | m… | bald-aardwa… | SCHEDU… | in 4 da… |\n",
      "+-----------------------------------------------------------------------------+\n"
     ]
    }
   ],
   "source": [
    "!prefect flow-run ls --state-type SCHEDULED"
   ]
  },
  {
   "cell_type": "markdown",
   "id": "7650be8e-5433-4d41-ad0c-f8da24c9eb42",
   "metadata": {},
   "source": [
    "Answer: 3 (closest to the actual 4 schedules)"
   ]
  },
  {
   "cell_type": "markdown",
   "id": "cf09d206-a729-42f4-abf5-11f67b3a7308",
   "metadata": {},
   "source": [
    "## Q6. Creating a work-queue\n",
    "\n",
    "In order to run this flow, you will need an agent and a work queue. Because we scheduled our flow on every month, it won't really get picked up by an agent. For this exercise, create a work-queue from the UI and view it using the CLI.\n",
    "\n",
    "For all CLI commands with Prefect, you can use `--help` to get more information.\n",
    "\n",
    "For example,\n",
    "\n",
    "* `prefect --help`\n",
    "* `prefect work-queue --help`\n",
    "\n",
    "What is the command to view the available work-queues?\n",
    "\n",
    "* `prefect work-queue inspect`\n",
    "* `prefect work-queue ls`\n",
    "* `prefect work-queue preview`\n",
    "* `prefect work-queue list`"
   ]
  },
  {
   "cell_type": "code",
   "execution_count": 9,
   "id": "82a4a227-6625-453d-b000-08b570118543",
   "metadata": {},
   "outputs": [
    {
     "name": "stdout",
     "output_type": "stream",
     "text": [
      "                                  Work Queues                                  \n",
      "+-----------------------------------------------------------------------------+\n",
      "|                             ID | Name                        | Concurrency… |\n",
      "|--------------------------------+-----------------------------+--------------|\n",
      "| 64c34f0d-10e8-4239-9191-b0041… | mlops-zoomcamp-monthly-dep… | None         |\n",
      "+-----------------------------------------------------------------------------+\n",
      "                          (**) denotes a paused queue                          \n"
     ]
    }
   ],
   "source": [
    "!prefect work-queue ls"
   ]
  }
 ],
 "metadata": {
  "kernelspec": {
   "display_name": "Python 3 (ipykernel)",
   "language": "python",
   "name": "python3"
  },
  "language_info": {
   "codemirror_mode": {
    "name": "ipython",
    "version": 3
   },
   "file_extension": ".py",
   "mimetype": "text/x-python",
   "name": "python",
   "nbconvert_exporter": "python",
   "pygments_lexer": "ipython3",
   "version": "3.10.2"
  }
 },
 "nbformat": 4,
 "nbformat_minor": 5
}
